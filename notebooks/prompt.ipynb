{
 "cells": [
  {
   "cell_type": "code",
   "execution_count": 4,
   "metadata": {},
   "outputs": [],
   "source": [
    "import timeit\n",
    "\n",
    "from src.semantic_retrieval import QandAPrompter"
   ]
  },
  {
   "cell_type": "code",
   "execution_count": 5,
   "metadata": {},
   "outputs": [
    {
     "name": "stdout",
     "output_type": "stream",
     "text": [
      "Successfully built the vector store\n"
     ]
    }
   ],
   "source": [
    "qanda = QandAPrompter(project_root=r\"/Users/airees-adi/Python_Codes/llm_quantization\")\n",
    "qanda.build_vector_store()"
   ]
  },
  {
   "cell_type": "code",
   "execution_count": 6,
   "metadata": {},
   "outputs": [
    {
     "name": "stdout",
     "output_type": "stream",
     "text": [
      "\n",
      "Answer:  Performance patterns refer to habits, routines, roles, and rituals that may be associated with different lifestyles and used in the process of engaging in occupations or activities. On the other hand, performance skills are observable, goal-directed actions that result in a client's quality of performing desired occupations.\n",
      "==================================================\n",
      "\n",
      "Source Document 1\n",
      "\n",
      "Source Text: Table 6. Performance Patterns\n",
      "Performance patterns are the habits, routines, roles, and rituals that may be associated with different lifestyles and used in the process\n",
      "of engaging in occupations or activities. These patterns are in ﬂuenced by context and time use and can support or hinder occupational\n",
      "performance.\n",
      "Category Description Examples\n",
      "Person\n",
      "Habits “Speci ﬁc, automatic behaviors performed repeat-\n",
      "Document Name: /Users/airees-adi/Python_Codes/llm_quantization/data/input/AOTA-Occupational-Therapy-Practice-Framwork-OTPF-4th-edition.pdf\n",
      "Page Number: 40\n",
      "\n",
      "==================================================\n",
      "\n",
      "Source Document 2\n",
      "\n",
      "Source Text: Performance patterns\n",
      "Habits, routines, roles, and rituals that may be associated with different lifestyles and used in the process of engaging in\n",
      "occupations or activities. These patterns are in ﬂuenced by context and time and can support or hinder occupational\n",
      "performance (see Table 6 ).\n",
      "Performance skills\n",
      "Observable, goal-directed actions that result in a client ’s quality of performing desired occupations. Skills are supported\n",
      "Document Name: /Users/airees-adi/Python_Codes/llm_quantization/data/input/AOTA-Occupational-Therapy-Practice-Framwork-OTPF-4th-edition.pdf\n",
      "Page Number: 79\n",
      "\n",
      "==================================================\n",
      "Time to retrieve response: 1362.9201712079812\n"
     ]
    }
   ],
   "source": [
    "start = timeit.default_timer()\n",
    "dbqa = qanda.setup_dbqa()\n",
    "response = dbqa(\n",
    "    {\n",
    "        \"query\": \"What is the difference between performance patterns and performance skills?\"\n",
    "    }\n",
    ")\n",
    "end = timeit.default_timer()\n",
    "\n",
    "print(f'\\nAnswer: {response[\"result\"]}')\n",
    "print(\"=\" * 50)\n",
    "\n",
    "source_docs = response[\"source_documents\"]\n",
    "for i, doc in enumerate(source_docs):\n",
    "    print(f\"\\nSource Document {i+1}\\n\")\n",
    "    print(f\"Source Text: {doc.page_content}\")\n",
    "    print(f'Document Name: {doc.metadata[\"source\"]}')\n",
    "    print(f'Page Number: {doc.metadata[\"page\"]}\\n')\n",
    "    print(\"=\" * 50)\n",
    "\n",
    "print(f\"Time to retrieve response: {end - start}\")"
   ]
  },
  {
   "cell_type": "code",
   "execution_count": null,
   "metadata": {},
   "outputs": [],
   "source": []
  }
 ],
 "metadata": {
  "kernelspec": {
   "display_name": ".venv",
   "language": "python",
   "name": "python3"
  },
  "language_info": {
   "codemirror_mode": {
    "name": "ipython",
    "version": 3
   },
   "file_extension": ".py",
   "mimetype": "text/x-python",
   "name": "python",
   "nbconvert_exporter": "python",
   "pygments_lexer": "ipython3",
   "version": "3.10.11"
  }
 },
 "nbformat": 4,
 "nbformat_minor": 2
}
